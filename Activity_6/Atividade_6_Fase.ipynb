{
  "nbformat": 4,
  "nbformat_minor": 0,
  "metadata": {
    "colab": {
      "name": "Atividade 6 Fase.ipynb",
      "version": "0.3.2",
      "provenance": [],
      "toc_visible": true,
      "include_colab_link": true
    },
    "language_info": {
      "codemirror_mode": {
        "name": "ipython",
        "version": 3
      },
      "file_extension": ".py",
      "mimetype": "text/x-python",
      "name": "python",
      "nbconvert_exporter": "python",
      "pygments_lexer": "ipython3",
      "version": "3.7.1"
    },
    "kernelspec": {
      "display_name": "Python 3",
      "language": "python",
      "name": "python3"
    }
  },
  "cells": [
    {
      "cell_type": "markdown",
      "metadata": {
        "id": "view-in-github",
        "colab_type": "text"
      },
      "source": [
        "<a href=\"https://colab.research.google.com/github/jhonatanlang/DSP2/blob/master/Activity_6/Atividade_6_Fase.ipynb\" target=\"_parent\"><img src=\"https://colab.research.google.com/assets/colab-badge.svg\" alt=\"Open In Colab\"/></a>"
      ]
    },
    {
      "cell_type": "markdown",
      "metadata": {
        "id": "7YElcLkJUzkL",
        "colab_type": "text"
      },
      "source": [
        "# Atividade 6: Efeito da Fase e Sistemas Radar"
      ]
    },
    {
      "cell_type": "markdown",
      "metadata": {
        "id": "wwzwGMR3UzkN",
        "colab_type": "text"
      },
      "source": [
        "## Sinal de Radar\n",
        "Até o momento, nos preocupamos apenas com a **magnitude** da resposta em frequência de filtros seletores de sinais. Nesta atividade, iremos analisar o efeito da fase.\n",
        "\n",
        "Considere a situação em que um sinal de radar é corrompido por ruído aditivo que ocupa uma banda de frequências distinta daquela do sinal. Para recuperar o sinal de interesse, é necessário aplicar um filtro. Entretanto, como há requisitos temporais a atender para a identificação do tempo de atraso a partir do sinal refletido, é importante que o filtro não distorça o sinal recebido. Isso será explorado nesta atividade."
      ]
    },
    {
      "cell_type": "markdown",
      "metadata": {
        "id": "Rkl0x-XcUzkO",
        "colab_type": "text"
      },
      "source": [
        "## Atraso de Grupo\n",
        "Uma figura de mérito usada para verificar as distorções de fase de um sistema é o atraso de grupo, definido como\n",
        "\n",
        "$\\tau (\\omega) = \\mathrm{grd} [H(e^{j\\omega})] = - \\frac{\\mathrm{d} [\\arg H(e^{j\\omega})]}{\\mathrm{d}\\omega}$\n",
        "\n",
        "Verifique o atraso de grupo do sistema atraso ideal ([[1](#referencias)] p. 168, capítulo 5, Análise no domínio transformado de sistemas LIT, seção 5.1.1, Fase e atraso de grupo da resposta em frequência)."
      ]
    },
    {
      "cell_type": "markdown",
      "metadata": {
        "id": "pVG196kKUzkP",
        "colab_type": "text"
      },
      "source": [
        "A atividade seguinte foi adaptada de [[2](#referencias)]. Carregue o arquivo de dados `gdeldata.mat`. No Python, use a função `loadmat` do módulo `scipy.io` ([documentação](https://docs.scipy.org/doc/scipy/reference/generated/scipy.io.loadmat.html)).\n",
        "\n",
        "Considere o sinal  apresentado no vetor `x1`. Esse sinal será corrompido por ruído aditivo, mostrado, para fins didáticos, no vetor `noise`. Observe a faixa de frequências que o sinal e o ruído ocupam. É possível projetar um filtro que recupere o sinal?"
      ]
    },
    {
      "cell_type": "code",
      "metadata": {
        "id": "j6Cs8WSrU2_M",
        "colab_type": "code",
        "colab": {
          "base_uri": "https://localhost:8080/",
          "height": 354
        },
        "outputId": "7336db77-c304-4bf5-a78a-d17ac11bba6a"
      },
      "source": [
        "import numpy as np # para usar funções que lidam com vetores\n",
        "import matplotlib.pyplot as plt # para desenho\n",
        "import struct \n",
        "import math\n",
        "from os.path import dirname, join as pjoin\n",
        "import scipy.io as sio\n",
        "\n",
        "\n",
        "data_dir = pjoin(dirname(sio.__file__))\n",
        "mat_fname = pjoin(data_dir, 'gdeldata.mat')\n",
        "\n",
        "print(\"Datap_dir:\")\n",
        "print(mat_fname)\n",
        "mat_contents = sio.loadmat(mat_fname)\n",
        "\n",
        "print()\n",
        "display(sorted(mat_contents.keys()))\n",
        "\n",
        "a = mat_contents['a']\n",
        "b = mat_contents['b']\n",
        "noise = mat_contents['noise']\n",
        "plt.plot (noise)\n",
        "plt.show"
      ],
      "execution_count": 50,
      "outputs": [
        {
          "output_type": "stream",
          "text": [
            "Datap_dir:\n",
            "/usr/local/lib/python3.6/dist-packages/scipy/io/gdeldata.mat\n",
            "\n"
          ],
          "name": "stdout"
        },
        {
          "output_type": "display_data",
          "data": {
            "text/plain": [
              "['a', 'b', 'h', 'noise', 'pnd_1', 'pnd_2', 'pulse', 'x1', 'x2']"
            ]
          },
          "metadata": {
            "tags": []
          }
        },
        {
          "output_type": "execute_result",
          "data": {
            "text/plain": [
              "<function matplotlib.pyplot.show>"
            ]
          },
          "metadata": {
            "tags": []
          },
          "execution_count": 50
        },
        {
          "output_type": "display_data",
          "data": {
            "image/png": "[encoded data removed]",
            "text/plain": [
              "<Figure size 432x288 with 1 Axes>"
            ]
          },
          "metadata": {
            "tags": []
          }
        }
      ]
    },
    {
      "cell_type": "code",
      "metadata": {
        "id": "ybijnk0lWSBc",
        "colab_type": "code",
        "colab": {}
      },
      "source": [
        ""
      ],
      "execution_count": 0,
      "outputs": []
    },
    {
      "cell_type": "markdown",
      "metadata": {
        "id": "oEdt2nY-UzkQ",
        "colab_type": "text"
      },
      "source": [
        "## Fase em Filtros FIR e IIR\n",
        "Dois filtros foram projetados. O filtro $H_1(z)$, de resposta finita ao impulso, é representado por sua resposta ao impulso no vetor `h`. Já $H_2(z)$, um filtro IIR, é representado por dois vetores de coeficientes, `a` e `b`. Confirme que os dois filtros apresentam resposta em magnitude que permite a recuperação do sinal de interesse. Sobreponha as respostas de cada filtro em um único gráfico."
      ]
    },
    {
      "cell_type": "markdown",
      "metadata": {
        "id": "vWKXy04NUzkS",
        "colab_type": "text"
      },
      "source": [
        "Observe a resposta ao impulso do filtro FIR. É simétrica? Que informação sobre a fase é possível estimar a partir dessa resposta ao impulso? Calcule e mostre o atraso de grupo desse filtro."
      ]
    },
    {
      "cell_type": "markdown",
      "metadata": {
        "id": "5odlwr-7UzkT",
        "colab_type": "text"
      },
      "source": [
        "Calcule e mostre o atraso de grupo do filtro IIR."
      ]
    },
    {
      "cell_type": "markdown",
      "metadata": {
        "id": "efxo8sdzZTjg",
        "colab_type": "text"
      },
      "source": [
        ""
      ]
    },
    {
      "cell_type": "markdown",
      "metadata": {
        "id": "kZm_Mfg4UzkU",
        "colab_type": "text"
      },
      "source": [
        "Filtre o sinal $x_1(n)$ usando cada um dos filtros. Desenhe e analise os sinais de saída."
      ]
    },
    {
      "cell_type": "markdown",
      "metadata": {
        "id": "XI7elNmqUzkV",
        "colab_type": "text"
      },
      "source": [
        "## Distorção de Pulso\n",
        "Filtre o sinal `pulse` com cada um dos filtros. Desenhe e analise os sinais de saída."
      ]
    },
    {
      "cell_type": "markdown",
      "metadata": {
        "id": "MTk4WnGbUzkW",
        "colab_type": "text"
      },
      "source": [
        "## Remoção de Ruído de um Pulso\n",
        "Filtre o sinal `pnd_1` com cada um dos filtros. Desenhe os sinais de saída e estime o tempo de atraso do pulso de cada um dos sinais resultantes. Explique qual o melhor filtro, FIR ou IIR, para essa aplicação."
      ]
    },
    {
      "cell_type": "markdown",
      "metadata": {
        "id": "q_--RaM6UzkX",
        "colab_type": "text"
      },
      "source": [
        "Para uma visão geral gráfica sobre sistemas radar, confira as Figuras 1-1, 1-2 e 1-3 de [[3](#referencias)]. Sobre filtros casados, são interessantes os exemplos de [[4](#referencias)].\n",
        "Entregue os resultados na forma de um Jupyter Notebook, via Moodle, com todo o código, resultados (figuras e arquivos extras, se necessário), análise e conclusões."
      ]
    },
    {
      "cell_type": "markdown",
      "metadata": {
        "id": "m8BBpF7ZUzkY",
        "colab_type": "text"
      },
      "source": [
        "# [Referências](#referencias)\n",
        "\n",
        "[1] Oppenheim, A. V.; Schafer, R. W. Processamento em tempo discreto de sinais. 3. ed. São Paulo:Pearson, 2012.\n",
        "\n",
        "[2] ECE 535 Digital Signal Processing: Matlab Assignment 3: Group Delay, Spring 2001. Disponível em: https://ece.gmu.edu/~kwage/courses/ece535/spr01/matlab/proj3.pdf\n",
        "\n",
        "[3] ROHDE&SCHWARZ Pulsed RADAR signal generation and measurements : Educational Note 1MA234_0e. Disponível em: https://cdn.rohde-schwarz.com/pws/dl_downloads/dl_application/application_notes/1ma234/1MA234_0e_PulsedRadarEduNote.pdf\n",
        "\n",
        "[4] WIKIPEDIA. Matched Filter: Examples. Disponível em: https://en.wikipedia.org/wiki/Matched_filter#Examples"
      ]
    }
  ]
}